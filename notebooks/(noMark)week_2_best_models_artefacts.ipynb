{
 "cells": [
  {
   "cell_type": "markdown",
   "metadata": {
    "id": "3IwbDesTs-dr",
    "jp-MarkdownHeadingCollapsed": true,
    "tags": []
   },
   "source": [
    "## 1. Load and explore dataset"
   ]
  },
  {
   "cell_type": "code",
   "execution_count": 1,
   "metadata": {
    "tags": []
   },
   "outputs": [],
   "source": [
    "%load_ext autoreload\n",
    "%autoreload 2"
   ]
  },
  {
   "cell_type": "markdown",
   "metadata": {
    "id": "qMQmbGW_tKJ-"
   },
   "source": [
    "**[1.1]** Import packages"
   ]
  },
  {
   "cell_type": "code",
   "execution_count": 2,
   "metadata": {
    "id": "2vRVBbfjtOhU"
   },
   "outputs": [],
   "source": [
    "import pandas as pd\n",
    "import numpy as np"
   ]
  },
  {
   "cell_type": "markdown",
   "metadata": {
    "id": "DzT7km_-tTKZ"
   },
   "source": [
    "**[1.2]** Create a variable called file_url containing the CSV file and load the dataset into dataframe called df_train and df_test"
   ]
  },
  {
   "cell_type": "code",
   "execution_count": 3,
   "metadata": {
    "colab": {
     "base_uri": "https://localhost:8080/"
    },
    "id": "lF-hsEINtTkK",
    "outputId": "1b6b05c9-e79b-4822-9aeb-b557305f9b76"
   },
   "outputs": [
    {
     "name": "stderr",
     "output_type": "stream",
     "text": [
      "/var/folders/53/lfhrj5t92lb1ltnby1j6jf000000gn/T/ipykernel_23585/2485453087.py:2: DtypeWarning: Columns (26) have mixed types. Specify dtype option on import or set low_memory=False.\n",
      "  df_train = pd.read_csv('../data/raw/train.csv')\n"
     ]
    }
   ],
   "source": [
    "df_test = pd.read_csv('../data/raw/test.csv')\n",
    "df_train = pd.read_csv('../data/raw/train.csv')"
   ]
  },
  {
   "cell_type": "markdown",
   "metadata": {
    "id": "3_LcXROJtzuB"
   },
   "source": [
    "**[1.3]** Display the first 5 rows of df_train and df_test\n"
   ]
  },
  {
   "cell_type": "code",
   "execution_count": 4,
   "metadata": {
    "colab": {
     "base_uri": "https://localhost:8080/",
     "height": 480
    },
    "id": "UQCI2nkSK_Cw",
    "outputId": "47825966-d54e-44fe-9eac-284bbedc38c1"
   },
   "outputs": [
    {
     "data": {
      "text/html": [
       "<div>\n",
       "<style scoped>\n",
       "    .dataframe tbody tr th:only-of-type {\n",
       "        vertical-align: middle;\n",
       "    }\n",
       "\n",
       "    .dataframe tbody tr th {\n",
       "        vertical-align: top;\n",
       "    }\n",
       "\n",
       "    .dataframe thead th {\n",
       "        text-align: right;\n",
       "    }\n",
       "</style>\n",
       "<table border=\"1\" class=\"dataframe\">\n",
       "  <thead>\n",
       "    <tr style=\"text-align: right;\">\n",
       "      <th></th>\n",
       "      <th>team</th>\n",
       "      <th>conf</th>\n",
       "      <th>GP</th>\n",
       "      <th>Min_per</th>\n",
       "      <th>Ortg</th>\n",
       "      <th>usg</th>\n",
       "      <th>eFG</th>\n",
       "      <th>TS_per</th>\n",
       "      <th>ORB_per</th>\n",
       "      <th>DRB_per</th>\n",
       "      <th>...</th>\n",
       "      <th>dgbpm</th>\n",
       "      <th>oreb</th>\n",
       "      <th>dreb</th>\n",
       "      <th>treb</th>\n",
       "      <th>ast</th>\n",
       "      <th>stl</th>\n",
       "      <th>blk</th>\n",
       "      <th>pts</th>\n",
       "      <th>player_id</th>\n",
       "      <th>drafted</th>\n",
       "    </tr>\n",
       "  </thead>\n",
       "  <tbody>\n",
       "    <tr>\n",
       "      <th>0</th>\n",
       "      <td>South Alabama</td>\n",
       "      <td>SB</td>\n",
       "      <td>26</td>\n",
       "      <td>29.5</td>\n",
       "      <td>97.3</td>\n",
       "      <td>16.6</td>\n",
       "      <td>42.5</td>\n",
       "      <td>44.43</td>\n",
       "      <td>1.6</td>\n",
       "      <td>4.6</td>\n",
       "      <td>...</td>\n",
       "      <td>-1.941150</td>\n",
       "      <td>0.1923</td>\n",
       "      <td>0.6154</td>\n",
       "      <td>0.8077</td>\n",
       "      <td>1.1923</td>\n",
       "      <td>0.3462</td>\n",
       "      <td>0.0385</td>\n",
       "      <td>3.8846</td>\n",
       "      <td>7be2aead-da4e-4d13-a74b-4c1e692e2368</td>\n",
       "      <td>0.0</td>\n",
       "    </tr>\n",
       "    <tr>\n",
       "      <th>1</th>\n",
       "      <td>Utah St.</td>\n",
       "      <td>WAC</td>\n",
       "      <td>34</td>\n",
       "      <td>60.9</td>\n",
       "      <td>108.3</td>\n",
       "      <td>14.9</td>\n",
       "      <td>52.4</td>\n",
       "      <td>54.48</td>\n",
       "      <td>3.8</td>\n",
       "      <td>6.3</td>\n",
       "      <td>...</td>\n",
       "      <td>-0.247934</td>\n",
       "      <td>0.6765</td>\n",
       "      <td>1.2647</td>\n",
       "      <td>1.9412</td>\n",
       "      <td>1.8235</td>\n",
       "      <td>0.4118</td>\n",
       "      <td>0.2353</td>\n",
       "      <td>5.9412</td>\n",
       "      <td>61de55d9-1582-4ea4-b593-44f6aa6524a6</td>\n",
       "      <td>0.0</td>\n",
       "    </tr>\n",
       "    <tr>\n",
       "      <th>2</th>\n",
       "      <td>South Florida</td>\n",
       "      <td>BE</td>\n",
       "      <td>27</td>\n",
       "      <td>72.0</td>\n",
       "      <td>96.2</td>\n",
       "      <td>21.8</td>\n",
       "      <td>45.7</td>\n",
       "      <td>47.98</td>\n",
       "      <td>2.1</td>\n",
       "      <td>8.0</td>\n",
       "      <td>...</td>\n",
       "      <td>-0.883163</td>\n",
       "      <td>0.6296</td>\n",
       "      <td>2.3333</td>\n",
       "      <td>2.9630</td>\n",
       "      <td>1.9630</td>\n",
       "      <td>0.4815</td>\n",
       "      <td>0.0000</td>\n",
       "      <td>12.1852</td>\n",
       "      <td>efdc4cfc-9dd0-4bf8-acef-7273e4d5b655</td>\n",
       "      <td>0.0</td>\n",
       "    </tr>\n",
       "    <tr>\n",
       "      <th>3</th>\n",
       "      <td>Pepperdine</td>\n",
       "      <td>WCC</td>\n",
       "      <td>30</td>\n",
       "      <td>44.5</td>\n",
       "      <td>97.7</td>\n",
       "      <td>16.0</td>\n",
       "      <td>53.6</td>\n",
       "      <td>53.69</td>\n",
       "      <td>4.1</td>\n",
       "      <td>9.4</td>\n",
       "      <td>...</td>\n",
       "      <td>-0.393459</td>\n",
       "      <td>0.7000</td>\n",
       "      <td>1.4333</td>\n",
       "      <td>2.1333</td>\n",
       "      <td>1.1000</td>\n",
       "      <td>0.5667</td>\n",
       "      <td>0.1333</td>\n",
       "      <td>4.9333</td>\n",
       "      <td>14f05660-bb3c-4868-b3dd-09bcdb64279d</td>\n",
       "      <td>0.0</td>\n",
       "    </tr>\n",
       "    <tr>\n",
       "      <th>4</th>\n",
       "      <td>Pacific</td>\n",
       "      <td>BW</td>\n",
       "      <td>33</td>\n",
       "      <td>56.2</td>\n",
       "      <td>96.5</td>\n",
       "      <td>22.0</td>\n",
       "      <td>52.8</td>\n",
       "      <td>54.31</td>\n",
       "      <td>8.3</td>\n",
       "      <td>18.6</td>\n",
       "      <td>...</td>\n",
       "      <td>-0.668318</td>\n",
       "      <td>1.4242</td>\n",
       "      <td>3.3030</td>\n",
       "      <td>4.7273</td>\n",
       "      <td>0.8485</td>\n",
       "      <td>0.4545</td>\n",
       "      <td>0.3333</td>\n",
       "      <td>7.5758</td>\n",
       "      <td>a58db52f-fbba-4e7b-83d0-371efcfed039</td>\n",
       "      <td>0.0</td>\n",
       "    </tr>\n",
       "  </tbody>\n",
       "</table>\n",
       "<p>5 rows × 64 columns</p>\n",
       "</div>"
      ],
      "text/plain": [
       "            team conf  GP  Min_per   Ortg   usg   eFG  TS_per  ORB_per   \n",
       "0  South Alabama   SB  26     29.5   97.3  16.6  42.5   44.43      1.6  \\\n",
       "1       Utah St.  WAC  34     60.9  108.3  14.9  52.4   54.48      3.8   \n",
       "2  South Florida   BE  27     72.0   96.2  21.8  45.7   47.98      2.1   \n",
       "3     Pepperdine  WCC  30     44.5   97.7  16.0  53.6   53.69      4.1   \n",
       "4        Pacific   BW  33     56.2   96.5  22.0  52.8   54.31      8.3   \n",
       "\n",
       "   DRB_per  ...     dgbpm    oreb    dreb    treb     ast     stl     blk   \n",
       "0      4.6  ... -1.941150  0.1923  0.6154  0.8077  1.1923  0.3462  0.0385  \\\n",
       "1      6.3  ... -0.247934  0.6765  1.2647  1.9412  1.8235  0.4118  0.2353   \n",
       "2      8.0  ... -0.883163  0.6296  2.3333  2.9630  1.9630  0.4815  0.0000   \n",
       "3      9.4  ... -0.393459  0.7000  1.4333  2.1333  1.1000  0.5667  0.1333   \n",
       "4     18.6  ... -0.668318  1.4242  3.3030  4.7273  0.8485  0.4545  0.3333   \n",
       "\n",
       "       pts                             player_id  drafted  \n",
       "0   3.8846  7be2aead-da4e-4d13-a74b-4c1e692e2368      0.0  \n",
       "1   5.9412  61de55d9-1582-4ea4-b593-44f6aa6524a6      0.0  \n",
       "2  12.1852  efdc4cfc-9dd0-4bf8-acef-7273e4d5b655      0.0  \n",
       "3   4.9333  14f05660-bb3c-4868-b3dd-09bcdb64279d      0.0  \n",
       "4   7.5758  a58db52f-fbba-4e7b-83d0-371efcfed039      0.0  \n",
       "\n",
       "[5 rows x 64 columns]"
      ]
     },
     "execution_count": 4,
     "metadata": {},
     "output_type": "execute_result"
    }
   ],
   "source": [
    "df_train.head(5)"
   ]
  },
  {
   "cell_type": "markdown",
   "metadata": {
    "id": "8Ck-nyJyK_ef"
   },
   "source": [
    "**[1.4]** Display the dimensions of df_train and df_test"
   ]
  },
  {
   "cell_type": "code",
   "execution_count": 5,
   "metadata": {
    "colab": {
     "base_uri": "https://localhost:8080/"
    },
    "id": "bVXzXR2Bxfvi",
    "outputId": "1cca63c3-aa39-4a60-dfcb-1ff1667928d6"
   },
   "outputs": [
    {
     "data": {
      "text/plain": [
       "(56091, 64)"
      ]
     },
     "execution_count": 5,
     "metadata": {},
     "output_type": "execute_result"
    }
   ],
   "source": [
    "df_train.shape"
   ]
  },
  {
   "cell_type": "code",
   "execution_count": 6,
   "metadata": {
    "colab": {
     "base_uri": "https://localhost:8080/"
    },
    "id": "OjGuZNn7I_Vb",
    "outputId": "70a08755-f27c-4b20-8a32-8c2b11f69bbf"
   },
   "outputs": [
    {
     "data": {
      "text/plain": [
       "(4970, 63)"
      ]
     },
     "execution_count": 6,
     "metadata": {},
     "output_type": "execute_result"
    }
   ],
   "source": [
    "df_test.shape"
   ]
  },
  {
   "cell_type": "markdown",
   "metadata": {
    "id": "JNXwJBVPxws1"
   },
   "source": [
    "**[1.5]** Display the summary of df_train and df_test"
   ]
  },
  {
   "cell_type": "code",
   "execution_count": 7,
   "metadata": {
    "colab": {
     "base_uri": "https://localhost:8080/"
    },
    "id": "DSzdprjXzlnN",
    "outputId": "2d17d383-2b01-4480-976d-0225094b89dd"
   },
   "outputs": [
    {
     "name": "stdout",
     "output_type": "stream",
     "text": [
      "<class 'pandas.core.frame.DataFrame'>\n",
      "RangeIndex: 56091 entries, 0 to 56090\n",
      "Data columns (total 64 columns):\n",
      " #   Column               Non-Null Count  Dtype  \n",
      "---  ------               --------------  -----  \n",
      " 0   team                 56091 non-null  object \n",
      " 1   conf                 56091 non-null  object \n",
      " 2   GP                   56091 non-null  int64  \n",
      " 3   Min_per              56091 non-null  float64\n",
      " 4   Ortg                 56091 non-null  float64\n",
      " 5   usg                  56091 non-null  float64\n",
      " 6   eFG                  56091 non-null  float64\n",
      " 7   TS_per               56091 non-null  float64\n",
      " 8   ORB_per              56091 non-null  float64\n",
      " 9   DRB_per              56091 non-null  float64\n",
      " 10  AST_per              56091 non-null  float64\n",
      " 11  TO_per               56091 non-null  float64\n",
      " 12  FTM                  56091 non-null  int64  \n",
      " 13  FTA                  56091 non-null  int64  \n",
      " 14  FT_per               56091 non-null  float64\n",
      " 15  twoPM                56091 non-null  int64  \n",
      " 16  twoPA                56091 non-null  int64  \n",
      " 17  twoP_per             56091 non-null  float64\n",
      " 18  TPM                  56091 non-null  int64  \n",
      " 19  TPA                  56091 non-null  int64  \n",
      " 20  TP_per               56091 non-null  float64\n",
      " 21  blk_per              56091 non-null  float64\n",
      " 22  stl_per              56091 non-null  float64\n",
      " 23  ftr                  56091 non-null  float64\n",
      " 24  yr                   55799 non-null  object \n",
      " 25  ht                   55993 non-null  object \n",
      " 26  num                  51401 non-null  object \n",
      " 27  porpag               56091 non-null  float64\n",
      " 28  adjoe                56091 non-null  float64\n",
      " 29  pfr                  56091 non-null  float64\n",
      " 30  year                 56091 non-null  int64  \n",
      " 31  type                 56091 non-null  object \n",
      " 32  Rec_Rank             17036 non-null  float64\n",
      " 33  ast_tov              51901 non-null  float64\n",
      " 34  rimmade              50010 non-null  float64\n",
      " 35  rimmade_rimmiss      50010 non-null  float64\n",
      " 36  midmade              50010 non-null  float64\n",
      " 37  midmade_midmiss      50010 non-null  float64\n",
      " 38  rim_ratio            46627 non-null  float64\n",
      " 39  mid_ratio            46403 non-null  float64\n",
      " 40  dunksmade            50010 non-null  float64\n",
      " 41  dunksmiss_dunksmade  50010 non-null  float64\n",
      " 42  dunks_ratio          25298 non-null  float64\n",
      " 43  pick                 1386 non-null   float64\n",
      " 44  drtg                 56047 non-null  float64\n",
      " 45  adrtg                56047 non-null  float64\n",
      " 46  dporpag              56047 non-null  float64\n",
      " 47  stops                56047 non-null  float64\n",
      " 48  bpm                  56047 non-null  float64\n",
      " 49  obpm                 56047 non-null  float64\n",
      " 50  dbpm                 56047 non-null  float64\n",
      " 51  gbpm                 56047 non-null  float64\n",
      " 52  mp                   56053 non-null  float64\n",
      " 53  ogbpm                56047 non-null  float64\n",
      " 54  dgbpm                56047 non-null  float64\n",
      " 55  oreb                 56053 non-null  float64\n",
      " 56  dreb                 56053 non-null  float64\n",
      " 57  treb                 56053 non-null  float64\n",
      " 58  ast                  56053 non-null  float64\n",
      " 59  stl                  56053 non-null  float64\n",
      " 60  blk                  56053 non-null  float64\n",
      " 61  pts                  56053 non-null  float64\n",
      " 62  player_id            56091 non-null  object \n",
      " 63  drafted              56091 non-null  float64\n",
      "dtypes: float64(49), int64(8), object(7)\n",
      "memory usage: 27.4+ MB\n"
     ]
    }
   ],
   "source": [
    "df_train.info()"
   ]
  },
  {
   "cell_type": "markdown",
   "metadata": {
    "id": "RgLyarbKOSXv"
   },
   "source": [
    "There are some columns with Na's values"
   ]
  },
  {
   "cell_type": "markdown",
   "metadata": {
    "id": "0MhNgwrTvitS"
   },
   "source": [
    "**[1.6]** Display the descriptive statictics of df_train and df_test\n"
   ]
  },
  {
   "cell_type": "code",
   "execution_count": 8,
   "metadata": {
    "colab": {
     "base_uri": "https://localhost:8080/",
     "height": 341
    },
    "id": "5uLDkH7D0xZa",
    "outputId": "4a2de285-5b81-487b-e374-a0cf9c853bae"
   },
   "outputs": [
    {
     "data": {
      "text/html": [
       "<div>\n",
       "<style scoped>\n",
       "    .dataframe tbody tr th:only-of-type {\n",
       "        vertical-align: middle;\n",
       "    }\n",
       "\n",
       "    .dataframe tbody tr th {\n",
       "        vertical-align: top;\n",
       "    }\n",
       "\n",
       "    .dataframe thead th {\n",
       "        text-align: right;\n",
       "    }\n",
       "</style>\n",
       "<table border=\"1\" class=\"dataframe\">\n",
       "  <thead>\n",
       "    <tr style=\"text-align: right;\">\n",
       "      <th></th>\n",
       "      <th>GP</th>\n",
       "      <th>Min_per</th>\n",
       "      <th>Ortg</th>\n",
       "      <th>usg</th>\n",
       "      <th>eFG</th>\n",
       "      <th>TS_per</th>\n",
       "      <th>ORB_per</th>\n",
       "      <th>DRB_per</th>\n",
       "      <th>AST_per</th>\n",
       "      <th>TO_per</th>\n",
       "      <th>...</th>\n",
       "      <th>ogbpm</th>\n",
       "      <th>dgbpm</th>\n",
       "      <th>oreb</th>\n",
       "      <th>dreb</th>\n",
       "      <th>treb</th>\n",
       "      <th>ast</th>\n",
       "      <th>stl</th>\n",
       "      <th>blk</th>\n",
       "      <th>pts</th>\n",
       "      <th>drafted</th>\n",
       "    </tr>\n",
       "  </thead>\n",
       "  <tbody>\n",
       "    <tr>\n",
       "      <th>count</th>\n",
       "      <td>56091.000000</td>\n",
       "      <td>56091.000000</td>\n",
       "      <td>56091.000000</td>\n",
       "      <td>56091.000000</td>\n",
       "      <td>56091.000000</td>\n",
       "      <td>56091.000000</td>\n",
       "      <td>56091.000000</td>\n",
       "      <td>56091.000000</td>\n",
       "      <td>56091.000000</td>\n",
       "      <td>56091.000000</td>\n",
       "      <td>...</td>\n",
       "      <td>56047.000000</td>\n",
       "      <td>56047.000000</td>\n",
       "      <td>56053.000000</td>\n",
       "      <td>56053.000000</td>\n",
       "      <td>56053.000000</td>\n",
       "      <td>56053.000000</td>\n",
       "      <td>56053.000000</td>\n",
       "      <td>56053.000000</td>\n",
       "      <td>56053.000000</td>\n",
       "      <td>56091.000000</td>\n",
       "    </tr>\n",
       "    <tr>\n",
       "      <th>mean</th>\n",
       "      <td>23.411973</td>\n",
       "      <td>37.325229</td>\n",
       "      <td>91.858295</td>\n",
       "      <td>18.149265</td>\n",
       "      <td>44.575513</td>\n",
       "      <td>47.676882</td>\n",
       "      <td>5.575376</td>\n",
       "      <td>12.673716</td>\n",
       "      <td>10.848740</td>\n",
       "      <td>20.337819</td>\n",
       "      <td>...</td>\n",
       "      <td>-2.083375</td>\n",
       "      <td>-0.442297</td>\n",
       "      <td>0.770611</td>\n",
       "      <td>1.892593</td>\n",
       "      <td>2.663204</td>\n",
       "      <td>1.073038</td>\n",
       "      <td>0.529475</td>\n",
       "      <td>0.282825</td>\n",
       "      <td>5.775381</td>\n",
       "      <td>0.009556</td>\n",
       "    </tr>\n",
       "    <tr>\n",
       "      <th>std</th>\n",
       "      <td>10.090542</td>\n",
       "      <td>28.061897</td>\n",
       "      <td>30.538819</td>\n",
       "      <td>6.204489</td>\n",
       "      <td>18.213813</td>\n",
       "      <td>17.414133</td>\n",
       "      <td>9.480239</td>\n",
       "      <td>10.878099</td>\n",
       "      <td>9.356001</td>\n",
       "      <td>12.226129</td>\n",
       "      <td>...</td>\n",
       "      <td>6.190166</td>\n",
       "      <td>3.279438</td>\n",
       "      <td>0.738899</td>\n",
       "      <td>1.479148</td>\n",
       "      <td>2.099913</td>\n",
       "      <td>1.171148</td>\n",
       "      <td>0.469152</td>\n",
       "      <td>0.417754</td>\n",
       "      <td>4.953723</td>\n",
       "      <td>0.097287</td>\n",
       "    </tr>\n",
       "    <tr>\n",
       "      <th>min</th>\n",
       "      <td>1.000000</td>\n",
       "      <td>0.000000</td>\n",
       "      <td>0.000000</td>\n",
       "      <td>0.000000</td>\n",
       "      <td>0.000000</td>\n",
       "      <td>0.000000</td>\n",
       "      <td>0.000000</td>\n",
       "      <td>0.000000</td>\n",
       "      <td>0.000000</td>\n",
       "      <td>0.000000</td>\n",
       "      <td>...</td>\n",
       "      <td>-141.539000</td>\n",
       "      <td>-100.984000</td>\n",
       "      <td>0.000000</td>\n",
       "      <td>0.000000</td>\n",
       "      <td>0.000000</td>\n",
       "      <td>0.000000</td>\n",
       "      <td>0.000000</td>\n",
       "      <td>0.000000</td>\n",
       "      <td>0.000000</td>\n",
       "      <td>0.000000</td>\n",
       "    </tr>\n",
       "    <tr>\n",
       "      <th>25%</th>\n",
       "      <td>16.000000</td>\n",
       "      <td>9.500000</td>\n",
       "      <td>84.100000</td>\n",
       "      <td>14.500000</td>\n",
       "      <td>40.100000</td>\n",
       "      <td>43.930000</td>\n",
       "      <td>1.800000</td>\n",
       "      <td>8.400000</td>\n",
       "      <td>4.600000</td>\n",
       "      <td>14.800000</td>\n",
       "      <td>...</td>\n",
       "      <td>-4.426515</td>\n",
       "      <td>-1.728030</td>\n",
       "      <td>0.225800</td>\n",
       "      <td>0.700000</td>\n",
       "      <td>1.000000</td>\n",
       "      <td>0.222200</td>\n",
       "      <td>0.160000</td>\n",
       "      <td>0.000000</td>\n",
       "      <td>1.571400</td>\n",
       "      <td>0.000000</td>\n",
       "    </tr>\n",
       "    <tr>\n",
       "      <th>50%</th>\n",
       "      <td>28.000000</td>\n",
       "      <td>35.900000</td>\n",
       "      <td>97.100000</td>\n",
       "      <td>18.100000</td>\n",
       "      <td>47.700000</td>\n",
       "      <td>50.850000</td>\n",
       "      <td>4.300000</td>\n",
       "      <td>11.900000</td>\n",
       "      <td>9.100000</td>\n",
       "      <td>19.100000</td>\n",
       "      <td>...</td>\n",
       "      <td>-1.580380</td>\n",
       "      <td>-0.313051</td>\n",
       "      <td>0.545500</td>\n",
       "      <td>1.633300</td>\n",
       "      <td>2.259300</td>\n",
       "      <td>0.677400</td>\n",
       "      <td>0.424200</td>\n",
       "      <td>0.133300</td>\n",
       "      <td>4.482800</td>\n",
       "      <td>0.000000</td>\n",
       "    </tr>\n",
       "    <tr>\n",
       "      <th>75%</th>\n",
       "      <td>31.000000</td>\n",
       "      <td>62.200000</td>\n",
       "      <td>106.900000</td>\n",
       "      <td>21.800000</td>\n",
       "      <td>53.200000</td>\n",
       "      <td>56.060000</td>\n",
       "      <td>8.100000</td>\n",
       "      <td>16.000000</td>\n",
       "      <td>15.100000</td>\n",
       "      <td>24.500000</td>\n",
       "      <td>...</td>\n",
       "      <td>0.992335</td>\n",
       "      <td>1.066415</td>\n",
       "      <td>1.111100</td>\n",
       "      <td>2.758600</td>\n",
       "      <td>3.833300</td>\n",
       "      <td>1.533300</td>\n",
       "      <td>0.793100</td>\n",
       "      <td>0.366700</td>\n",
       "      <td>9.069000</td>\n",
       "      <td>0.000000</td>\n",
       "    </tr>\n",
       "    <tr>\n",
       "      <th>max</th>\n",
       "      <td>41.000000</td>\n",
       "      <td>98.000000</td>\n",
       "      <td>834.000000</td>\n",
       "      <td>50.000000</td>\n",
       "      <td>150.000000</td>\n",
       "      <td>150.000000</td>\n",
       "      <td>1576.600000</td>\n",
       "      <td>1385.000000</td>\n",
       "      <td>100.000000</td>\n",
       "      <td>100.000000</td>\n",
       "      <td>...</td>\n",
       "      <td>225.485000</td>\n",
       "      <td>78.985500</td>\n",
       "      <td>5.933300</td>\n",
       "      <td>11.545500</td>\n",
       "      <td>14.533300</td>\n",
       "      <td>10.000000</td>\n",
       "      <td>4.000000</td>\n",
       "      <td>5.258100</td>\n",
       "      <td>30.090900</td>\n",
       "      <td>1.000000</td>\n",
       "    </tr>\n",
       "  </tbody>\n",
       "</table>\n",
       "<p>8 rows × 57 columns</p>\n",
       "</div>"
      ],
      "text/plain": [
       "                 GP       Min_per          Ortg           usg           eFG   \n",
       "count  56091.000000  56091.000000  56091.000000  56091.000000  56091.000000  \\\n",
       "mean      23.411973     37.325229     91.858295     18.149265     44.575513   \n",
       "std       10.090542     28.061897     30.538819      6.204489     18.213813   \n",
       "min        1.000000      0.000000      0.000000      0.000000      0.000000   \n",
       "25%       16.000000      9.500000     84.100000     14.500000     40.100000   \n",
       "50%       28.000000     35.900000     97.100000     18.100000     47.700000   \n",
       "75%       31.000000     62.200000    106.900000     21.800000     53.200000   \n",
       "max       41.000000     98.000000    834.000000     50.000000    150.000000   \n",
       "\n",
       "             TS_per       ORB_per       DRB_per       AST_per        TO_per   \n",
       "count  56091.000000  56091.000000  56091.000000  56091.000000  56091.000000  \\\n",
       "mean      47.676882      5.575376     12.673716     10.848740     20.337819   \n",
       "std       17.414133      9.480239     10.878099      9.356001     12.226129   \n",
       "min        0.000000      0.000000      0.000000      0.000000      0.000000   \n",
       "25%       43.930000      1.800000      8.400000      4.600000     14.800000   \n",
       "50%       50.850000      4.300000     11.900000      9.100000     19.100000   \n",
       "75%       56.060000      8.100000     16.000000     15.100000     24.500000   \n",
       "max      150.000000   1576.600000   1385.000000    100.000000    100.000000   \n",
       "\n",
       "       ...         ogbpm         dgbpm          oreb          dreb   \n",
       "count  ...  56047.000000  56047.000000  56053.000000  56053.000000  \\\n",
       "mean   ...     -2.083375     -0.442297      0.770611      1.892593   \n",
       "std    ...      6.190166      3.279438      0.738899      1.479148   \n",
       "min    ...   -141.539000   -100.984000      0.000000      0.000000   \n",
       "25%    ...     -4.426515     -1.728030      0.225800      0.700000   \n",
       "50%    ...     -1.580380     -0.313051      0.545500      1.633300   \n",
       "75%    ...      0.992335      1.066415      1.111100      2.758600   \n",
       "max    ...    225.485000     78.985500      5.933300     11.545500   \n",
       "\n",
       "               treb           ast           stl           blk           pts   \n",
       "count  56053.000000  56053.000000  56053.000000  56053.000000  56053.000000  \\\n",
       "mean       2.663204      1.073038      0.529475      0.282825      5.775381   \n",
       "std        2.099913      1.171148      0.469152      0.417754      4.953723   \n",
       "min        0.000000      0.000000      0.000000      0.000000      0.000000   \n",
       "25%        1.000000      0.222200      0.160000      0.000000      1.571400   \n",
       "50%        2.259300      0.677400      0.424200      0.133300      4.482800   \n",
       "75%        3.833300      1.533300      0.793100      0.366700      9.069000   \n",
       "max       14.533300     10.000000      4.000000      5.258100     30.090900   \n",
       "\n",
       "            drafted  \n",
       "count  56091.000000  \n",
       "mean       0.009556  \n",
       "std        0.097287  \n",
       "min        0.000000  \n",
       "25%        0.000000  \n",
       "50%        0.000000  \n",
       "75%        0.000000  \n",
       "max        1.000000  \n",
       "\n",
       "[8 rows x 57 columns]"
      ]
     },
     "execution_count": 8,
     "metadata": {},
     "output_type": "execute_result"
    }
   ],
   "source": [
    "df_train.describe()"
   ]
  },
  {
   "cell_type": "code",
   "execution_count": 9,
   "metadata": {
    "colab": {
     "base_uri": "https://localhost:8080/",
     "height": 341
    },
    "id": "i4g-knpDe1pv",
    "outputId": "7da59761-2afb-4248-db16-5abf7fc6b2af"
   },
   "outputs": [
    {
     "data": {
      "text/html": [
       "<div>\n",
       "<style scoped>\n",
       "    .dataframe tbody tr th:only-of-type {\n",
       "        vertical-align: middle;\n",
       "    }\n",
       "\n",
       "    .dataframe tbody tr th {\n",
       "        vertical-align: top;\n",
       "    }\n",
       "\n",
       "    .dataframe thead th {\n",
       "        text-align: right;\n",
       "    }\n",
       "</style>\n",
       "<table border=\"1\" class=\"dataframe\">\n",
       "  <thead>\n",
       "    <tr style=\"text-align: right;\">\n",
       "      <th></th>\n",
       "      <th>GP</th>\n",
       "      <th>Min_per</th>\n",
       "      <th>Ortg</th>\n",
       "      <th>usg</th>\n",
       "      <th>eFG</th>\n",
       "      <th>TS_per</th>\n",
       "      <th>ORB_per</th>\n",
       "      <th>DRB_per</th>\n",
       "      <th>AST_per</th>\n",
       "      <th>TO_per</th>\n",
       "      <th>...</th>\n",
       "      <th>mp</th>\n",
       "      <th>ogbpm</th>\n",
       "      <th>dgbpm</th>\n",
       "      <th>oreb</th>\n",
       "      <th>dreb</th>\n",
       "      <th>treb</th>\n",
       "      <th>ast</th>\n",
       "      <th>stl</th>\n",
       "      <th>blk</th>\n",
       "      <th>pts</th>\n",
       "    </tr>\n",
       "  </thead>\n",
       "  <tbody>\n",
       "    <tr>\n",
       "      <th>count</th>\n",
       "      <td>4970.000000</td>\n",
       "      <td>4970.000000</td>\n",
       "      <td>4970.000000</td>\n",
       "      <td>4970.000000</td>\n",
       "      <td>4970.000000</td>\n",
       "      <td>4970.000000</td>\n",
       "      <td>4970.000000</td>\n",
       "      <td>4970.000000</td>\n",
       "      <td>4970.000000</td>\n",
       "      <td>4970.000000</td>\n",
       "      <td>...</td>\n",
       "      <td>4970.000000</td>\n",
       "      <td>4969.000000</td>\n",
       "      <td>4969.000000</td>\n",
       "      <td>4970.000000</td>\n",
       "      <td>4970.000000</td>\n",
       "      <td>4970.000000</td>\n",
       "      <td>4970.000000</td>\n",
       "      <td>4970.000000</td>\n",
       "      <td>4970.000000</td>\n",
       "      <td>4970.000000</td>\n",
       "    </tr>\n",
       "    <tr>\n",
       "      <th>mean</th>\n",
       "      <td>15.865795</td>\n",
       "      <td>34.906881</td>\n",
       "      <td>89.500644</td>\n",
       "      <td>17.867626</td>\n",
       "      <td>43.657203</td>\n",
       "      <td>46.538342</td>\n",
       "      <td>5.168390</td>\n",
       "      <td>13.048753</td>\n",
       "      <td>10.356801</td>\n",
       "      <td>18.962254</td>\n",
       "      <td>...</td>\n",
       "      <td>16.569559</td>\n",
       "      <td>-2.149284</td>\n",
       "      <td>-0.526065</td>\n",
       "      <td>0.697025</td>\n",
       "      <td>1.953592</td>\n",
       "      <td>2.650609</td>\n",
       "      <td>1.069840</td>\n",
       "      <td>0.529118</td>\n",
       "      <td>0.260375</td>\n",
       "      <td>5.753262</td>\n",
       "    </tr>\n",
       "    <tr>\n",
       "      <th>std</th>\n",
       "      <td>8.276655</td>\n",
       "      <td>27.921356</td>\n",
       "      <td>35.338827</td>\n",
       "      <td>6.780159</td>\n",
       "      <td>20.716630</td>\n",
       "      <td>19.992005</td>\n",
       "      <td>7.030561</td>\n",
       "      <td>9.248595</td>\n",
       "      <td>9.427192</td>\n",
       "      <td>13.255566</td>\n",
       "      <td>...</td>\n",
       "      <td>10.550727</td>\n",
       "      <td>6.750792</td>\n",
       "      <td>3.920493</td>\n",
       "      <td>0.683636</td>\n",
       "      <td>1.533018</td>\n",
       "      <td>2.073589</td>\n",
       "      <td>1.153074</td>\n",
       "      <td>0.474838</td>\n",
       "      <td>0.380465</td>\n",
       "      <td>4.881835</td>\n",
       "    </tr>\n",
       "    <tr>\n",
       "      <th>min</th>\n",
       "      <td>1.000000</td>\n",
       "      <td>0.100000</td>\n",
       "      <td>0.000000</td>\n",
       "      <td>0.000000</td>\n",
       "      <td>0.000000</td>\n",
       "      <td>0.000000</td>\n",
       "      <td>0.000000</td>\n",
       "      <td>0.000000</td>\n",
       "      <td>0.000000</td>\n",
       "      <td>0.000000</td>\n",
       "      <td>...</td>\n",
       "      <td>0.250000</td>\n",
       "      <td>-62.101300</td>\n",
       "      <td>-31.594500</td>\n",
       "      <td>0.000000</td>\n",
       "      <td>0.000000</td>\n",
       "      <td>0.000000</td>\n",
       "      <td>0.000000</td>\n",
       "      <td>0.000000</td>\n",
       "      <td>0.000000</td>\n",
       "      <td>0.000000</td>\n",
       "    </tr>\n",
       "    <tr>\n",
       "      <th>25%</th>\n",
       "      <td>9.000000</td>\n",
       "      <td>6.700000</td>\n",
       "      <td>80.900000</td>\n",
       "      <td>14.200000</td>\n",
       "      <td>38.400000</td>\n",
       "      <td>42.340000</td>\n",
       "      <td>1.400000</td>\n",
       "      <td>8.400000</td>\n",
       "      <td>4.300000</td>\n",
       "      <td>13.100000</td>\n",
       "      <td>...</td>\n",
       "      <td>6.891675</td>\n",
       "      <td>-4.443960</td>\n",
       "      <td>-1.868180</td>\n",
       "      <td>0.200000</td>\n",
       "      <td>0.750000</td>\n",
       "      <td>1.000000</td>\n",
       "      <td>0.250000</td>\n",
       "      <td>0.142900</td>\n",
       "      <td>0.000000</td>\n",
       "      <td>1.602175</td>\n",
       "    </tr>\n",
       "    <tr>\n",
       "      <th>50%</th>\n",
       "      <td>17.000000</td>\n",
       "      <td>32.350000</td>\n",
       "      <td>96.800000</td>\n",
       "      <td>18.000000</td>\n",
       "      <td>48.100000</td>\n",
       "      <td>50.850000</td>\n",
       "      <td>3.700000</td>\n",
       "      <td>12.300000</td>\n",
       "      <td>8.600000</td>\n",
       "      <td>18.100000</td>\n",
       "      <td>...</td>\n",
       "      <td>16.083350</td>\n",
       "      <td>-1.540360</td>\n",
       "      <td>-0.397400</td>\n",
       "      <td>0.500000</td>\n",
       "      <td>1.666700</td>\n",
       "      <td>2.260900</td>\n",
       "      <td>0.680000</td>\n",
       "      <td>0.428600</td>\n",
       "      <td>0.133300</td>\n",
       "      <td>4.535900</td>\n",
       "    </tr>\n",
       "    <tr>\n",
       "      <th>75%</th>\n",
       "      <td>22.000000</td>\n",
       "      <td>59.900000</td>\n",
       "      <td>107.100000</td>\n",
       "      <td>21.800000</td>\n",
       "      <td>54.000000</td>\n",
       "      <td>56.780000</td>\n",
       "      <td>7.400000</td>\n",
       "      <td>16.800000</td>\n",
       "      <td>14.500000</td>\n",
       "      <td>23.400000</td>\n",
       "      <td>...</td>\n",
       "      <td>25.991375</td>\n",
       "      <td>1.103500</td>\n",
       "      <td>1.049540</td>\n",
       "      <td>1.000000</td>\n",
       "      <td>2.882400</td>\n",
       "      <td>3.800000</td>\n",
       "      <td>1.533300</td>\n",
       "      <td>0.807700</td>\n",
       "      <td>0.333300</td>\n",
       "      <td>9.000000</td>\n",
       "    </tr>\n",
       "    <tr>\n",
       "      <th>max</th>\n",
       "      <td>33.000000</td>\n",
       "      <td>96.000000</td>\n",
       "      <td>391.200000</td>\n",
       "      <td>48.200000</td>\n",
       "      <td>150.000000</td>\n",
       "      <td>150.000000</td>\n",
       "      <td>231.800000</td>\n",
       "      <td>121.100000</td>\n",
       "      <td>100.000000</td>\n",
       "      <td>100.000000</td>\n",
       "      <td>...</td>\n",
       "      <td>38.800000</td>\n",
       "      <td>160.805000</td>\n",
       "      <td>71.811500</td>\n",
       "      <td>5.148100</td>\n",
       "      <td>10.681800</td>\n",
       "      <td>15.000000</td>\n",
       "      <td>8.400000</td>\n",
       "      <td>3.565200</td>\n",
       "      <td>3.640000</td>\n",
       "      <td>25.333300</td>\n",
       "    </tr>\n",
       "  </tbody>\n",
       "</table>\n",
       "<p>8 rows × 57 columns</p>\n",
       "</div>"
      ],
      "text/plain": [
       "                GP      Min_per         Ortg          usg          eFG   \n",
       "count  4970.000000  4970.000000  4970.000000  4970.000000  4970.000000  \\\n",
       "mean     15.865795    34.906881    89.500644    17.867626    43.657203   \n",
       "std       8.276655    27.921356    35.338827     6.780159    20.716630   \n",
       "min       1.000000     0.100000     0.000000     0.000000     0.000000   \n",
       "25%       9.000000     6.700000    80.900000    14.200000    38.400000   \n",
       "50%      17.000000    32.350000    96.800000    18.000000    48.100000   \n",
       "75%      22.000000    59.900000   107.100000    21.800000    54.000000   \n",
       "max      33.000000    96.000000   391.200000    48.200000   150.000000   \n",
       "\n",
       "            TS_per      ORB_per      DRB_per      AST_per       TO_per  ...   \n",
       "count  4970.000000  4970.000000  4970.000000  4970.000000  4970.000000  ...  \\\n",
       "mean     46.538342     5.168390    13.048753    10.356801    18.962254  ...   \n",
       "std      19.992005     7.030561     9.248595     9.427192    13.255566  ...   \n",
       "min       0.000000     0.000000     0.000000     0.000000     0.000000  ...   \n",
       "25%      42.340000     1.400000     8.400000     4.300000    13.100000  ...   \n",
       "50%      50.850000     3.700000    12.300000     8.600000    18.100000  ...   \n",
       "75%      56.780000     7.400000    16.800000    14.500000    23.400000  ...   \n",
       "max     150.000000   231.800000   121.100000   100.000000   100.000000  ...   \n",
       "\n",
       "                mp        ogbpm        dgbpm         oreb         dreb   \n",
       "count  4970.000000  4969.000000  4969.000000  4970.000000  4970.000000  \\\n",
       "mean     16.569559    -2.149284    -0.526065     0.697025     1.953592   \n",
       "std      10.550727     6.750792     3.920493     0.683636     1.533018   \n",
       "min       0.250000   -62.101300   -31.594500     0.000000     0.000000   \n",
       "25%       6.891675    -4.443960    -1.868180     0.200000     0.750000   \n",
       "50%      16.083350    -1.540360    -0.397400     0.500000     1.666700   \n",
       "75%      25.991375     1.103500     1.049540     1.000000     2.882400   \n",
       "max      38.800000   160.805000    71.811500     5.148100    10.681800   \n",
       "\n",
       "              treb          ast          stl          blk          pts  \n",
       "count  4970.000000  4970.000000  4970.000000  4970.000000  4970.000000  \n",
       "mean      2.650609     1.069840     0.529118     0.260375     5.753262  \n",
       "std       2.073589     1.153074     0.474838     0.380465     4.881835  \n",
       "min       0.000000     0.000000     0.000000     0.000000     0.000000  \n",
       "25%       1.000000     0.250000     0.142900     0.000000     1.602175  \n",
       "50%       2.260900     0.680000     0.428600     0.133300     4.535900  \n",
       "75%       3.800000     1.533300     0.807700     0.333300     9.000000  \n",
       "max      15.000000     8.400000     3.565200     3.640000    25.333300  \n",
       "\n",
       "[8 rows x 57 columns]"
      ]
     },
     "execution_count": 9,
     "metadata": {},
     "output_type": "execute_result"
    }
   ],
   "source": [
    "df_test.describe()"
   ]
  },
  {
   "cell_type": "markdown",
   "metadata": {
    "id": "FtQNV91qJJ_6"
   },
   "source": [
    "**[1.7]** Display missing values in each columns of df_train and df_test\n"
   ]
  },
  {
   "cell_type": "code",
   "execution_count": 10,
   "metadata": {
    "colab": {
     "base_uri": "https://localhost:8080/"
    },
    "id": "FnEtDpOnLZoh",
    "outputId": "1cb9c0cb-e745-41ac-dfa4-f421b9d68f49"
   },
   "outputs": [
    {
     "name": "stdout",
     "output_type": "stream",
     "text": [
      "Missing values in tranining data:\n",
      "Column yr:292 NAs\n",
      "Column ht:98 NAs\n",
      "Column num:4690 NAs\n",
      "Column Rec_Rank:39055 NAs\n",
      "Column ast_tov:4190 NAs\n",
      "Column rimmade:6081 NAs\n",
      "Column rimmade_rimmiss:6081 NAs\n",
      "Column midmade:6081 NAs\n",
      "Column midmade_midmiss:6081 NAs\n",
      "Column rim_ratio:9464 NAs\n",
      "Column mid_ratio:9688 NAs\n",
      "Column dunksmade:6081 NAs\n",
      "Column dunksmiss_dunksmade:6081 NAs\n",
      "Column dunks_ratio:30793 NAs\n",
      "Column pick:54705 NAs\n",
      "Column drtg:44 NAs\n",
      "Column adrtg:44 NAs\n",
      "Column dporpag:44 NAs\n",
      "Column stops:44 NAs\n",
      "Column bpm:44 NAs\n",
      "Column obpm:44 NAs\n",
      "Column dbpm:44 NAs\n",
      "Column gbpm:44 NAs\n",
      "Column mp:38 NAs\n",
      "Column ogbpm:44 NAs\n",
      "Column dgbpm:44 NAs\n",
      "Column oreb:38 NAs\n",
      "Column dreb:38 NAs\n",
      "Column treb:38 NAs\n",
      "Column ast:38 NAs\n",
      "Column stl:38 NAs\n",
      "Column blk:38 NAs\n",
      "Column pts:38 NAs\n"
     ]
    }
   ],
   "source": [
    "print(\"Missing values in tranining data:\")\n",
    "for i in df_train.columns[df_train.isna().any()]:\n",
    "    no_missing = df_train[i].isna().sum()\n",
    "    print(\"Column \"+str(i) +\":\"+str(no_missing) +\" NAs\")"
   ]
  },
  {
   "cell_type": "code",
   "execution_count": 11,
   "metadata": {
    "colab": {
     "base_uri": "https://localhost:8080/"
    },
    "id": "7FUht2rNKHMY",
    "outputId": "7296f366-a2e9-4fa8-cdb7-b31f38240306"
   },
   "outputs": [
    {
     "name": "stdout",
     "output_type": "stream",
     "text": [
      "Missing values in testing data\n",
      "Column yr:2 NAs\n",
      "Column ht:13 NAs\n",
      "Column num:96 NAs\n",
      "Column Rec_Rank:3536 NAs\n",
      "Column ast_tov:537 NAs\n",
      "Column rimmade:248 NAs\n",
      "Column rimmade_rimmiss:248 NAs\n",
      "Column midmade:248 NAs\n",
      "Column midmade_midmiss:248 NAs\n",
      "Column rim_ratio:646 NAs\n",
      "Column mid_ratio:697 NAs\n",
      "Column dunksmade:248 NAs\n",
      "Column dunksmiss_dunksmade:248 NAs\n",
      "Column dunks_ratio:2717 NAs\n",
      "Column pick:4921 NAs\n",
      "Column drtg:1 NAs\n",
      "Column adrtg:1 NAs\n",
      "Column dporpag:1 NAs\n",
      "Column stops:1 NAs\n",
      "Column bpm:1 NAs\n",
      "Column obpm:1 NAs\n",
      "Column dbpm:1 NAs\n",
      "Column gbpm:1 NAs\n",
      "Column ogbpm:1 NAs\n",
      "Column dgbpm:1 NAs\n"
     ]
    }
   ],
   "source": [
    "print(\"Missing values in testing data\")\n",
    "for i in df_test.columns[df_test.isna().any()]:\n",
    "    no_missing = df_test[i].isna().sum()\n",
    "    print(\"Column \"+str(i) +\":\"+str(no_missing) +\" NAs\")"
   ]
  },
  {
   "cell_type": "markdown",
   "metadata": {
    "id": "RTO5H39sKZZQ"
   },
   "source": [
    "**[1.8]** Checking if number of missing values in dunkmade column is equal to dunksmiss_dunksmade column.\n"
   ]
  },
  {
   "cell_type": "code",
   "execution_count": 12,
   "metadata": {
    "colab": {
     "base_uri": "https://localhost:8080/",
     "height": 431
    },
    "id": "9rnEW984kXJE",
    "outputId": "01a2689c-3310-4840-9f14-f84174a85699"
   },
   "outputs": [
    {
     "data": {
      "text/html": [
       "<div>\n",
       "<style scoped>\n",
       "    .dataframe tbody tr th:only-of-type {\n",
       "        vertical-align: middle;\n",
       "    }\n",
       "\n",
       "    .dataframe tbody tr th {\n",
       "        vertical-align: top;\n",
       "    }\n",
       "\n",
       "    .dataframe thead th {\n",
       "        text-align: right;\n",
       "    }\n",
       "</style>\n",
       "<table border=\"1\" class=\"dataframe\">\n",
       "  <thead>\n",
       "    <tr style=\"text-align: right;\">\n",
       "      <th></th>\n",
       "      <th>dunksmade</th>\n",
       "      <th>dunksmiss_dunksmade</th>\n",
       "    </tr>\n",
       "  </thead>\n",
       "  <tbody>\n",
       "    <tr>\n",
       "      <th>0</th>\n",
       "      <td>NaN</td>\n",
       "      <td>NaN</td>\n",
       "    </tr>\n",
       "    <tr>\n",
       "      <th>1</th>\n",
       "      <td>NaN</td>\n",
       "      <td>NaN</td>\n",
       "    </tr>\n",
       "    <tr>\n",
       "      <th>2</th>\n",
       "      <td>NaN</td>\n",
       "      <td>NaN</td>\n",
       "    </tr>\n",
       "    <tr>\n",
       "      <th>3</th>\n",
       "      <td>NaN</td>\n",
       "      <td>NaN</td>\n",
       "    </tr>\n",
       "    <tr>\n",
       "      <th>4</th>\n",
       "      <td>NaN</td>\n",
       "      <td>NaN</td>\n",
       "    </tr>\n",
       "    <tr>\n",
       "      <th>...</th>\n",
       "      <td>...</td>\n",
       "      <td>...</td>\n",
       "    </tr>\n",
       "    <tr>\n",
       "      <th>56066</th>\n",
       "      <td>NaN</td>\n",
       "      <td>NaN</td>\n",
       "    </tr>\n",
       "    <tr>\n",
       "      <th>56078</th>\n",
       "      <td>NaN</td>\n",
       "      <td>NaN</td>\n",
       "    </tr>\n",
       "    <tr>\n",
       "      <th>56082</th>\n",
       "      <td>NaN</td>\n",
       "      <td>NaN</td>\n",
       "    </tr>\n",
       "    <tr>\n",
       "      <th>56088</th>\n",
       "      <td>NaN</td>\n",
       "      <td>NaN</td>\n",
       "    </tr>\n",
       "    <tr>\n",
       "      <th>56090</th>\n",
       "      <td>NaN</td>\n",
       "      <td>NaN</td>\n",
       "    </tr>\n",
       "  </tbody>\n",
       "</table>\n",
       "<p>6081 rows × 2 columns</p>\n",
       "</div>"
      ],
      "text/plain": [
       "       dunksmade  dunksmiss_dunksmade\n",
       "0            NaN                  NaN\n",
       "1            NaN                  NaN\n",
       "2            NaN                  NaN\n",
       "3            NaN                  NaN\n",
       "4            NaN                  NaN\n",
       "...          ...                  ...\n",
       "56066        NaN                  NaN\n",
       "56078        NaN                  NaN\n",
       "56082        NaN                  NaN\n",
       "56088        NaN                  NaN\n",
       "56090        NaN                  NaN\n",
       "\n",
       "[6081 rows x 2 columns]"
      ]
     },
     "execution_count": 12,
     "metadata": {},
     "output_type": "execute_result"
    }
   ],
   "source": [
    "dunksmade_na=df_train[['dunksmade','dunksmiss_dunksmade']][df_train['dunksmade'].isna()]\n",
    "dunksmade_na"
   ]
  },
  {
   "cell_type": "code",
   "execution_count": 13,
   "metadata": {
    "colab": {
     "base_uri": "https://localhost:8080/"
    },
    "id": "hiym4tQjmKto",
    "outputId": "a12ddf74-e60b-4018-d6dc-cbb10ddd2c32"
   },
   "outputs": [
    {
     "data": {
      "text/plain": [
       "6081"
      ]
     },
     "execution_count": 13,
     "metadata": {},
     "output_type": "execute_result"
    }
   ],
   "source": [
    "df_train['dunksmiss_dunksmade'].isna().sum()"
   ]
  },
  {
   "cell_type": "markdown",
   "metadata": {
    "id": "dTZ1lR1vuPHc"
   },
   "source": [
    "**[1.9]** Checking player's type\n"
   ]
  },
  {
   "cell_type": "code",
   "execution_count": 14,
   "metadata": {
    "colab": {
     "base_uri": "https://localhost:8080/"
    },
    "id": "NTm2RboDuc-w",
    "outputId": "2eee8299-8bb8-4b5e-bd43-1e2399b934fa"
   },
   "outputs": [
    {
     "data": {
      "text/plain": [
       "count     56091\n",
       "unique        1\n",
       "top         all\n",
       "freq      56091\n",
       "Name: type, dtype: object"
      ]
     },
     "execution_count": 14,
     "metadata": {},
     "output_type": "execute_result"
    }
   ],
   "source": [
    "df_train[\"type\"].describe()"
   ]
  },
  {
   "cell_type": "markdown",
   "metadata": {
    "id": "fbW3uAOfudes"
   },
   "source": [
    "It seem like all players in database can play all type, so no need to on-hot encoding."
   ]
  },
  {
   "cell_type": "markdown",
   "metadata": {
    "id": "Vf73A1HmK1v5",
    "jp-MarkdownHeadingCollapsed": true,
    "tags": []
   },
   "source": [
    "## 2. Data preparation: Label encoding(yr) + Converter(ht)"
   ]
  },
  {
   "cell_type": "markdown",
   "metadata": {
    "id": "LHeoMYLELuB7"
   },
   "source": [
    "**[2.1]** Adding new column for missing dunk, rim and mid for training and testing data."
   ]
  },
  {
   "cell_type": "code",
   "execution_count": 15,
   "metadata": {
    "id": "BM678nrj25G3"
   },
   "outputs": [],
   "source": [
    "df_train['dunksmiss']=df_train['dunksmiss_dunksmade']-df_train['dunksmade']\n",
    "df_train['rimmiss']=df_train['rimmade_rimmiss']-df_train['rimmade']\n",
    "df_train['midmiss']=df_train['midmade_midmiss']-df_train['midmade']"
   ]
  },
  {
   "cell_type": "code",
   "execution_count": 16,
   "metadata": {
    "id": "PnbUcg7h6FLu"
   },
   "outputs": [],
   "source": [
    "df_test['dunksmiss']=df_test['dunksmiss_dunksmade']-df_test['dunksmade']\n",
    "df_test['rimmiss']=df_test['rimmade_rimmiss']-df_test['rimmade']\n",
    "df_test['midmiss']=df_test['midmade_midmiss']-df_test['midmade']"
   ]
  },
  {
   "cell_type": "markdown",
   "metadata": {
    "id": "g_iJ2VPML-cF"
   },
   "source": [
    "**[2.2]** Drop player number as it not meaningful information, columns with large number of nas, ratio column where it is insufficient due to player may have drunk made and missing equal to 0."
   ]
  },
  {
   "cell_type": "code",
   "execution_count": 17,
   "metadata": {
    "id": "RbFRcY0rM43d"
   },
   "outputs": [],
   "source": [
    "df_train = df_train.drop(['num','Rec_Rank','pick','rimmade_rimmiss','midmade_midmiss','rim_ratio','mid_ratio','dunks_ratio','dunksmiss_dunksmade'], axis=1)\n",
    "df_test = df_test.drop(['num','Rec_Rank','pick','rimmade_rimmiss','midmade_midmiss','rim_ratio','mid_ratio','dunks_ratio','dunksmiss_dunksmade'], axis=1)\n"
   ]
  },
  {
   "cell_type": "markdown",
   "metadata": {
    "id": "m3jgYeDlvEcE"
   },
   "source": [
    "**[2.3]** Label encoding year of study."
   ]
  },
  {
   "cell_type": "code",
   "execution_count": 18,
   "metadata": {
    "colab": {
     "base_uri": "https://localhost:8080/",
     "height": 411
    },
    "id": "RpmFPZgYq2OZ",
    "outputId": "34246a85-7c73-495b-f7ed-a2e2cd1dd99a"
   },
   "outputs": [
    {
     "data": {
      "text/html": [
       "<div>\n",
       "<style scoped>\n",
       "    .dataframe tbody tr th:only-of-type {\n",
       "        vertical-align: middle;\n",
       "    }\n",
       "\n",
       "    .dataframe tbody tr th {\n",
       "        vertical-align: top;\n",
       "    }\n",
       "\n",
       "    .dataframe thead th {\n",
       "        text-align: right;\n",
       "    }\n",
       "</style>\n",
       "<table border=\"1\" class=\"dataframe\">\n",
       "  <thead>\n",
       "    <tr style=\"text-align: right;\">\n",
       "      <th></th>\n",
       "      <th>team</th>\n",
       "      <th>conf</th>\n",
       "      <th>yr</th>\n",
       "      <th>ht</th>\n",
       "      <th>type</th>\n",
       "      <th>player_id</th>\n",
       "    </tr>\n",
       "  </thead>\n",
       "  <tbody>\n",
       "    <tr>\n",
       "      <th>0</th>\n",
       "      <td>South Alabama</td>\n",
       "      <td>SB</td>\n",
       "      <td>So</td>\n",
       "      <td>2-Jun</td>\n",
       "      <td>all</td>\n",
       "      <td>7be2aead-da4e-4d13-a74b-4c1e692e2368</td>\n",
       "    </tr>\n",
       "    <tr>\n",
       "      <th>1</th>\n",
       "      <td>Utah St.</td>\n",
       "      <td>WAC</td>\n",
       "      <td>So</td>\n",
       "      <td>4-Jun</td>\n",
       "      <td>all</td>\n",
       "      <td>61de55d9-1582-4ea4-b593-44f6aa6524a6</td>\n",
       "    </tr>\n",
       "    <tr>\n",
       "      <th>2</th>\n",
       "      <td>South Florida</td>\n",
       "      <td>BE</td>\n",
       "      <td>Sr</td>\n",
       "      <td>4-Jun</td>\n",
       "      <td>all</td>\n",
       "      <td>efdc4cfc-9dd0-4bf8-acef-7273e4d5b655</td>\n",
       "    </tr>\n",
       "    <tr>\n",
       "      <th>3</th>\n",
       "      <td>Pepperdine</td>\n",
       "      <td>WCC</td>\n",
       "      <td>Sr</td>\n",
       "      <td>4-Jun</td>\n",
       "      <td>all</td>\n",
       "      <td>14f05660-bb3c-4868-b3dd-09bcdb64279d</td>\n",
       "    </tr>\n",
       "    <tr>\n",
       "      <th>4</th>\n",
       "      <td>Pacific</td>\n",
       "      <td>BW</td>\n",
       "      <td>Sr</td>\n",
       "      <td>8-Jun</td>\n",
       "      <td>all</td>\n",
       "      <td>a58db52f-fbba-4e7b-83d0-371efcfed039</td>\n",
       "    </tr>\n",
       "    <tr>\n",
       "      <th>...</th>\n",
       "      <td>...</td>\n",
       "      <td>...</td>\n",
       "      <td>...</td>\n",
       "      <td>...</td>\n",
       "      <td>...</td>\n",
       "      <td>...</td>\n",
       "    </tr>\n",
       "    <tr>\n",
       "      <th>56086</th>\n",
       "      <td>Niagara</td>\n",
       "      <td>MAAC</td>\n",
       "      <td>Fr</td>\n",
       "      <td>11-May</td>\n",
       "      <td>all</td>\n",
       "      <td>9eded9ee-0eb4-49f4-914a-f58924797bdf</td>\n",
       "    </tr>\n",
       "    <tr>\n",
       "      <th>56087</th>\n",
       "      <td>Northwestern St.</td>\n",
       "      <td>Slnd</td>\n",
       "      <td>So</td>\n",
       "      <td>1-Jun</td>\n",
       "      <td>all</td>\n",
       "      <td>5b539feb-1736-44ed-ba62-82bce86b12d6</td>\n",
       "    </tr>\n",
       "    <tr>\n",
       "      <th>56088</th>\n",
       "      <td>Texas Southern</td>\n",
       "      <td>SWAC</td>\n",
       "      <td>Fr</td>\n",
       "      <td>Jun-00</td>\n",
       "      <td>all</td>\n",
       "      <td>e95d08eb-1273-4094-9173-c47368222c0d</td>\n",
       "    </tr>\n",
       "    <tr>\n",
       "      <th>56089</th>\n",
       "      <td>Vanderbilt</td>\n",
       "      <td>SEC</td>\n",
       "      <td>Fr</td>\n",
       "      <td>2-Jun</td>\n",
       "      <td>all</td>\n",
       "      <td>2f315a7b-2e82-44a2-8597-1779102ace09</td>\n",
       "    </tr>\n",
       "    <tr>\n",
       "      <th>56090</th>\n",
       "      <td>Chicago St.</td>\n",
       "      <td>WAC</td>\n",
       "      <td>Sr</td>\n",
       "      <td>8-Jun</td>\n",
       "      <td>all</td>\n",
       "      <td>65571c18-b2b4-4ba6-84db-7357a76e6f59</td>\n",
       "    </tr>\n",
       "  </tbody>\n",
       "</table>\n",
       "<p>56091 rows × 6 columns</p>\n",
       "</div>"
      ],
      "text/plain": [
       "                   team  conf  yr      ht type   \n",
       "0         South Alabama    SB  So   2-Jun  all  \\\n",
       "1              Utah St.   WAC  So   4-Jun  all   \n",
       "2         South Florida    BE  Sr   4-Jun  all   \n",
       "3            Pepperdine   WCC  Sr   4-Jun  all   \n",
       "4               Pacific    BW  Sr   8-Jun  all   \n",
       "...                 ...   ...  ..     ...  ...   \n",
       "56086           Niagara  MAAC  Fr  11-May  all   \n",
       "56087  Northwestern St.  Slnd  So   1-Jun  all   \n",
       "56088    Texas Southern  SWAC  Fr  Jun-00  all   \n",
       "56089        Vanderbilt   SEC  Fr   2-Jun  all   \n",
       "56090       Chicago St.   WAC  Sr   8-Jun  all   \n",
       "\n",
       "                                  player_id  \n",
       "0      7be2aead-da4e-4d13-a74b-4c1e692e2368  \n",
       "1      61de55d9-1582-4ea4-b593-44f6aa6524a6  \n",
       "2      efdc4cfc-9dd0-4bf8-acef-7273e4d5b655  \n",
       "3      14f05660-bb3c-4868-b3dd-09bcdb64279d  \n",
       "4      a58db52f-fbba-4e7b-83d0-371efcfed039  \n",
       "...                                     ...  \n",
       "56086  9eded9ee-0eb4-49f4-914a-f58924797bdf  \n",
       "56087  5b539feb-1736-44ed-ba62-82bce86b12d6  \n",
       "56088  e95d08eb-1273-4094-9173-c47368222c0d  \n",
       "56089  2f315a7b-2e82-44a2-8597-1779102ace09  \n",
       "56090  65571c18-b2b4-4ba6-84db-7357a76e6f59  \n",
       "\n",
       "[56091 rows x 6 columns]"
      ]
     },
     "execution_count": 18,
     "metadata": {},
     "output_type": "execute_result"
    }
   ],
   "source": [
    "df_train.select_dtypes(include=['object'])"
   ]
  },
  {
   "cell_type": "code",
   "execution_count": 19,
   "metadata": {
    "id": "ePCiH2KqsQyA"
   },
   "outputs": [],
   "source": [
    "# A map for yr\n",
    "yr_mapping = {\"Fr\": 1, \"So\": 2, \"Jr\": 3, \"Sr\": 4}\n",
    "#label encoding\n",
    "df_train[\"yr_encoded\"] = df_train[\"yr\"].map(yr_mapping)\n",
    "df_test[\"yr_encoded\"] = df_test[\"yr\"].map(yr_mapping)"
   ]
  },
  {
   "cell_type": "markdown",
   "metadata": {
    "id": "pDlO4vTCNx_j"
   },
   "source": [
    "**[2.4]** Convert ht from date to height"
   ]
  },
  {
   "cell_type": "code",
   "execution_count": 20,
   "metadata": {
    "id": "2lIn1TOLvtYR"
   },
   "outputs": [],
   "source": [
    "def convert_ht(list):\n",
    "  month_mapping = {'jan': 1, 'feb': 2, 'mar': 3, 'apr': 4, 'may': 5, 'jun': 6, 'jul': 7, 'aug': 8, 'sep': 9, 'oct': 10, 'nov': 11, 'dec': 12}\n",
    "  if isinstance(list,float):\n",
    "    list=None\n",
    "  elif len(list)!=2:\n",
    "    list=None\n",
    "  elif list[0].isdigit():\n",
    "    height=month_mapping.get(list[1].lower())+int(list[0])/12\n",
    "    return height\n",
    "  elif list[1].isdigit():\n",
    "    height=month_mapping.get(list[0].lower())+int(list[1])/12\n",
    "    return height\n"
   ]
  },
  {
   "cell_type": "code",
   "execution_count": 21,
   "metadata": {
    "id": "j5ZP_rEpEXTk"
   },
   "outputs": [],
   "source": [
    "df_train[\"ht_converted\"]=df_train[\"ht\"].str.split(\"-\").apply(convert_ht)\n",
    "df_test[\"ht_converted\"]=df_test[\"ht\"].str.split(\"-\").apply(convert_ht)"
   ]
  },
  {
   "cell_type": "markdown",
   "metadata": {
    "id": "rLt6yG3SO659"
   },
   "source": [
    "**[2.5]** Fill all missing values of numerical columns with median values."
   ]
  },
  {
   "cell_type": "code",
   "execution_count": 22,
   "metadata": {
    "id": "lAmS1pFn1_2a"
   },
   "outputs": [],
   "source": [
    "df_train_allcols=df_train.copy()\n",
    "df_test_allcols=df_test.copy()\n",
    "object_columns = df_train.select_dtypes(include=['object']).columns\n",
    "df_train = df_train.drop(object_columns, axis=1)\n",
    "object_columns = df_test.select_dtypes(include=['object']).columns\n",
    "df_test = df_test.drop(object_columns, axis=1)"
   ]
  },
  {
   "cell_type": "code",
   "execution_count": 23,
   "metadata": {
    "id": "9AO8_itUL6ix",
    "tags": []
   },
   "outputs": [],
   "source": [
    "df_train = df_train.fillna(df_train.median())\n",
    "df_test = df_test.fillna(df_test.median())"
   ]
  },
  {
   "cell_type": "markdown",
   "metadata": {
    "id": "zQvGUYHjpdIc",
    "jp-MarkdownHeadingCollapsed": true,
    "tags": []
   },
   "source": [
    "## 3. Data Splitting"
   ]
  },
  {
   "cell_type": "code",
   "execution_count": 24,
   "metadata": {
    "id": "hsx5ZcaPopla"
   },
   "outputs": [],
   "source": [
    "from sklearn.model_selection import train_test_split"
   ]
  },
  {
   "cell_type": "code",
   "execution_count": 25,
   "metadata": {
    "id": "JMaSfERkaZsS"
   },
   "outputs": [],
   "source": [
    "X_test = df_test\n"
   ]
  },
  {
   "cell_type": "code",
   "execution_count": 26,
   "metadata": {},
   "outputs": [],
   "source": [
    "%reload_ext autoreload\n",
    "import sys\n",
    "sys.path.insert(0, '../')\n",
    "from src.data.sets import pop_target"
   ]
  },
  {
   "cell_type": "code",
   "execution_count": 27,
   "metadata": {},
   "outputs": [],
   "source": [
    "features, target = pop_target(df_train,'drafted')"
   ]
  },
  {
   "cell_type": "code",
   "execution_count": 28,
   "metadata": {},
   "outputs": [],
   "source": [
    "from src.data.sets import split_sets_random"
   ]
  },
  {
   "cell_type": "code",
   "execution_count": 29,
   "metadata": {},
   "outputs": [],
   "source": [
    "X_train, y_train, X_val, y_val = split_sets_random(features, target, test_ratio=0.2)"
   ]
  },
  {
   "cell_type": "code",
   "execution_count": 30,
   "metadata": {
    "tags": []
   },
   "outputs": [],
   "source": [
    "from src.data.sets import save_sets"
   ]
  },
  {
   "cell_type": "code",
   "execution_count": 31,
   "metadata": {
    "tags": []
   },
   "outputs": [],
   "source": [
    "save_sets(X_train, y_train, X_val, y_val, X_test, path='../data/processed/')"
   ]
  },
  {
   "cell_type": "markdown",
   "metadata": {
    "id": "P4POxjz4Oi6W",
    "jp-MarkdownHeadingCollapsed": true,
    "tags": []
   },
   "source": [
    "## 4. Get Baseline Model"
   ]
  },
  {
   "cell_type": "markdown",
   "metadata": {
    "tags": []
   },
   "source": [
    "**[4.1]** Import the `NullRegressor`"
   ]
  },
  {
   "cell_type": "code",
   "execution_count": 32,
   "metadata": {
    "tags": []
   },
   "outputs": [],
   "source": [
    "from src.models.null import NullRegressor"
   ]
  },
  {
   "cell_type": "markdown",
   "metadata": {},
   "source": [
    "**[4.2]** Instantiate a `NullRegressor` and save it into a variable called `base_model`"
   ]
  },
  {
   "cell_type": "code",
   "execution_count": 33,
   "metadata": {
    "tags": []
   },
   "outputs": [],
   "source": [
    "base_model = NullRegressor()"
   ]
  },
  {
   "cell_type": "markdown",
   "metadata": {},
   "source": [
    "**[4.3]** Make a prediction using `fit_predict()` and save the results in a variable called `y_base`"
   ]
  },
  {
   "cell_type": "code",
   "execution_count": 34,
   "metadata": {
    "tags": []
   },
   "outputs": [],
   "source": [
    "y_base = base_model.fit_predict(y_train)"
   ]
  },
  {
   "cell_type": "markdown",
   "metadata": {},
   "source": [
    "[4.4] Import the print_regressor_scores()"
   ]
  },
  {
   "cell_type": "code",
   "execution_count": 35,
   "metadata": {
    "tags": []
   },
   "outputs": [],
   "source": [
    "from src.models.baseline import print_regressor_scores"
   ]
  },
  {
   "cell_type": "markdown",
   "metadata": {},
   "source": [
    "**[4.5]** Display the RMSE and MAE scores of this baseline model on the training set"
   ]
  },
  {
   "cell_type": "code",
   "execution_count": 36,
   "metadata": {
    "tags": []
   },
   "outputs": [
    {
     "name": "stdout",
     "output_type": "stream",
     "text": [
      "RMSE Training: 0.09730942417337497\n",
      "MAE Training: 0.01893824806590762\n"
     ]
    }
   ],
   "source": [
    "print_regressor_scores(y_preds=y_base, y_actuals=y_train, set_name='Training')"
   ]
  },
  {
   "cell_type": "markdown",
   "metadata": {
    "tags": []
   },
   "source": [
    "## Save best models artefacts for week2(Please dont mark it)"
   ]
  },
  {
   "cell_type": "code",
   "execution_count": 37,
   "metadata": {
    "tags": []
   },
   "outputs": [],
   "source": [
    "from src.models.train_model import fit_assess_regressor"
   ]
  },
  {
   "cell_type": "code",
   "execution_count": 38,
   "metadata": {
    "tags": []
   },
   "outputs": [
    {
     "name": "stderr",
     "output_type": "stream",
     "text": [
      "/Users/ken/Library/Caches/pypoetry/virtualenvs/assignment1-yqyFRD4a-py3.9/lib/python3.9/site-packages/sklearn/linear_model/_logistic.py:458: ConvergenceWarning: lbfgs failed to converge (status=1):\n",
      "STOP: TOTAL NO. of ITERATIONS REACHED LIMIT.\n",
      "\n",
      "Increase the number of iterations (max_iter) or scale the data as shown in:\n",
      "    https://scikit-learn.org/stable/modules/preprocessing.html\n",
      "Please also refer to the documentation for alternative solver options:\n",
      "    https://scikit-learn.org/stable/modules/linear_model.html#logistic-regression\n",
      "  n_iter_i = _check_optimize_result(\n"
     ]
    },
    {
     "data": {
      "text/html": [
       "<style>#sk-container-id-1 {color: black;background-color: white;}#sk-container-id-1 pre{padding: 0;}#sk-container-id-1 div.sk-toggleable {background-color: white;}#sk-container-id-1 label.sk-toggleable__label {cursor: pointer;display: block;width: 100%;margin-bottom: 0;padding: 0.3em;box-sizing: border-box;text-align: center;}#sk-container-id-1 label.sk-toggleable__label-arrow:before {content: \"▸\";float: left;margin-right: 0.25em;color: #696969;}#sk-container-id-1 label.sk-toggleable__label-arrow:hover:before {color: black;}#sk-container-id-1 div.sk-estimator:hover label.sk-toggleable__label-arrow:before {color: black;}#sk-container-id-1 div.sk-toggleable__content {max-height: 0;max-width: 0;overflow: hidden;text-align: left;background-color: #f0f8ff;}#sk-container-id-1 div.sk-toggleable__content pre {margin: 0.2em;color: black;border-radius: 0.25em;background-color: #f0f8ff;}#sk-container-id-1 input.sk-toggleable__control:checked~div.sk-toggleable__content {max-height: 200px;max-width: 100%;overflow: auto;}#sk-container-id-1 input.sk-toggleable__control:checked~label.sk-toggleable__label-arrow:before {content: \"▾\";}#sk-container-id-1 div.sk-estimator input.sk-toggleable__control:checked~label.sk-toggleable__label {background-color: #d4ebff;}#sk-container-id-1 div.sk-label input.sk-toggleable__control:checked~label.sk-toggleable__label {background-color: #d4ebff;}#sk-container-id-1 input.sk-hidden--visually {border: 0;clip: rect(1px 1px 1px 1px);clip: rect(1px, 1px, 1px, 1px);height: 1px;margin: -1px;overflow: hidden;padding: 0;position: absolute;width: 1px;}#sk-container-id-1 div.sk-estimator {font-family: monospace;background-color: #f0f8ff;border: 1px dotted black;border-radius: 0.25em;box-sizing: border-box;margin-bottom: 0.5em;}#sk-container-id-1 div.sk-estimator:hover {background-color: #d4ebff;}#sk-container-id-1 div.sk-parallel-item::after {content: \"\";width: 100%;border-bottom: 1px solid gray;flex-grow: 1;}#sk-container-id-1 div.sk-label:hover label.sk-toggleable__label {background-color: #d4ebff;}#sk-container-id-1 div.sk-serial::before {content: \"\";position: absolute;border-left: 1px solid gray;box-sizing: border-box;top: 0;bottom: 0;left: 50%;z-index: 0;}#sk-container-id-1 div.sk-serial {display: flex;flex-direction: column;align-items: center;background-color: white;padding-right: 0.2em;padding-left: 0.2em;position: relative;}#sk-container-id-1 div.sk-item {position: relative;z-index: 1;}#sk-container-id-1 div.sk-parallel {display: flex;align-items: stretch;justify-content: center;background-color: white;position: relative;}#sk-container-id-1 div.sk-item::before, #sk-container-id-1 div.sk-parallel-item::before {content: \"\";position: absolute;border-left: 1px solid gray;box-sizing: border-box;top: 0;bottom: 0;left: 50%;z-index: -1;}#sk-container-id-1 div.sk-parallel-item {display: flex;flex-direction: column;z-index: 1;position: relative;background-color: white;}#sk-container-id-1 div.sk-parallel-item:first-child::after {align-self: flex-end;width: 50%;}#sk-container-id-1 div.sk-parallel-item:last-child::after {align-self: flex-start;width: 50%;}#sk-container-id-1 div.sk-parallel-item:only-child::after {width: 0;}#sk-container-id-1 div.sk-dashed-wrapped {border: 1px dashed gray;margin: 0 0.4em 0.5em 0.4em;box-sizing: border-box;padding-bottom: 0.4em;background-color: white;}#sk-container-id-1 div.sk-label label {font-family: monospace;font-weight: bold;display: inline-block;line-height: 1.2em;}#sk-container-id-1 div.sk-label-container {text-align: center;}#sk-container-id-1 div.sk-container {/* jupyter's `normalize.less` sets `[hidden] { display: none; }` but bootstrap.min.css set `[hidden] { display: none !important; }` so we also need the `!important` here to be able to override the default hidden behavior on the sphinx rendered scikit-learn.org. See: https://github.com/scikit-learn/scikit-learn/issues/21755 */display: inline-block !important;position: relative;}#sk-container-id-1 div.sk-text-repr-fallback {display: none;}</style><div id=\"sk-container-id-1\" class=\"sk-top-container\"><div class=\"sk-text-repr-fallback\"><pre>LogisticRegression(random_state=42)</pre><b>In a Jupyter environment, please rerun this cell to show the HTML representation or trust the notebook. <br />On GitHub, the HTML representation is unable to render, please try loading this page with nbviewer.org.</b></div><div class=\"sk-container\" hidden><div class=\"sk-item\"><div class=\"sk-estimator sk-toggleable\"><input class=\"sk-toggleable__control sk-hidden--visually\" id=\"sk-estimator-id-1\" type=\"checkbox\" checked><label for=\"sk-estimator-id-1\" class=\"sk-toggleable__label sk-toggleable__label-arrow\">LogisticRegression</label><div class=\"sk-toggleable__content\"><pre>LogisticRegression(random_state=42)</pre></div></div></div></div></div>"
      ],
      "text/plain": [
       "LogisticRegression(random_state=42)"
      ]
     },
     "execution_count": 38,
     "metadata": {},
     "output_type": "execute_result"
    }
   ],
   "source": [
    "from sklearn.linear_model import LogisticRegression\n",
    "log_reg = LogisticRegression(random_state=42)\n",
    "fit_assess_regressor(log_reg,X_train, y_train)"
   ]
  },
  {
   "cell_type": "code",
   "execution_count": 39,
   "metadata": {
    "tags": []
   },
   "outputs": [
    {
     "data": {
      "text/plain": [
       "['../models/log_reg_default.joblib']"
      ]
     },
     "execution_count": 39,
     "metadata": {},
     "output_type": "execute_result"
    }
   ],
   "source": [
    "from joblib import dump\n",
    "\n",
    "dump(log_reg,  '../models/log_reg_default.joblib')"
   ]
  },
  {
   "cell_type": "code",
   "execution_count": 40,
   "metadata": {
    "tags": []
   },
   "outputs": [
    {
     "data": {
      "text/html": [
       "<style>#sk-container-id-2 {color: black;background-color: white;}#sk-container-id-2 pre{padding: 0;}#sk-container-id-2 div.sk-toggleable {background-color: white;}#sk-container-id-2 label.sk-toggleable__label {cursor: pointer;display: block;width: 100%;margin-bottom: 0;padding: 0.3em;box-sizing: border-box;text-align: center;}#sk-container-id-2 label.sk-toggleable__label-arrow:before {content: \"▸\";float: left;margin-right: 0.25em;color: #696969;}#sk-container-id-2 label.sk-toggleable__label-arrow:hover:before {color: black;}#sk-container-id-2 div.sk-estimator:hover label.sk-toggleable__label-arrow:before {color: black;}#sk-container-id-2 div.sk-toggleable__content {max-height: 0;max-width: 0;overflow: hidden;text-align: left;background-color: #f0f8ff;}#sk-container-id-2 div.sk-toggleable__content pre {margin: 0.2em;color: black;border-radius: 0.25em;background-color: #f0f8ff;}#sk-container-id-2 input.sk-toggleable__control:checked~div.sk-toggleable__content {max-height: 200px;max-width: 100%;overflow: auto;}#sk-container-id-2 input.sk-toggleable__control:checked~label.sk-toggleable__label-arrow:before {content: \"▾\";}#sk-container-id-2 div.sk-estimator input.sk-toggleable__control:checked~label.sk-toggleable__label {background-color: #d4ebff;}#sk-container-id-2 div.sk-label input.sk-toggleable__control:checked~label.sk-toggleable__label {background-color: #d4ebff;}#sk-container-id-2 input.sk-hidden--visually {border: 0;clip: rect(1px 1px 1px 1px);clip: rect(1px, 1px, 1px, 1px);height: 1px;margin: -1px;overflow: hidden;padding: 0;position: absolute;width: 1px;}#sk-container-id-2 div.sk-estimator {font-family: monospace;background-color: #f0f8ff;border: 1px dotted black;border-radius: 0.25em;box-sizing: border-box;margin-bottom: 0.5em;}#sk-container-id-2 div.sk-estimator:hover {background-color: #d4ebff;}#sk-container-id-2 div.sk-parallel-item::after {content: \"\";width: 100%;border-bottom: 1px solid gray;flex-grow: 1;}#sk-container-id-2 div.sk-label:hover label.sk-toggleable__label {background-color: #d4ebff;}#sk-container-id-2 div.sk-serial::before {content: \"\";position: absolute;border-left: 1px solid gray;box-sizing: border-box;top: 0;bottom: 0;left: 50%;z-index: 0;}#sk-container-id-2 div.sk-serial {display: flex;flex-direction: column;align-items: center;background-color: white;padding-right: 0.2em;padding-left: 0.2em;position: relative;}#sk-container-id-2 div.sk-item {position: relative;z-index: 1;}#sk-container-id-2 div.sk-parallel {display: flex;align-items: stretch;justify-content: center;background-color: white;position: relative;}#sk-container-id-2 div.sk-item::before, #sk-container-id-2 div.sk-parallel-item::before {content: \"\";position: absolute;border-left: 1px solid gray;box-sizing: border-box;top: 0;bottom: 0;left: 50%;z-index: -1;}#sk-container-id-2 div.sk-parallel-item {display: flex;flex-direction: column;z-index: 1;position: relative;background-color: white;}#sk-container-id-2 div.sk-parallel-item:first-child::after {align-self: flex-end;width: 50%;}#sk-container-id-2 div.sk-parallel-item:last-child::after {align-self: flex-start;width: 50%;}#sk-container-id-2 div.sk-parallel-item:only-child::after {width: 0;}#sk-container-id-2 div.sk-dashed-wrapped {border: 1px dashed gray;margin: 0 0.4em 0.5em 0.4em;box-sizing: border-box;padding-bottom: 0.4em;background-color: white;}#sk-container-id-2 div.sk-label label {font-family: monospace;font-weight: bold;display: inline-block;line-height: 1.2em;}#sk-container-id-2 div.sk-label-container {text-align: center;}#sk-container-id-2 div.sk-container {/* jupyter's `normalize.less` sets `[hidden] { display: none; }` but bootstrap.min.css set `[hidden] { display: none !important; }` so we also need the `!important` here to be able to override the default hidden behavior on the sphinx rendered scikit-learn.org. See: https://github.com/scikit-learn/scikit-learn/issues/21755 */display: inline-block !important;position: relative;}#sk-container-id-2 div.sk-text-repr-fallback {display: none;}</style><div id=\"sk-container-id-2\" class=\"sk-top-container\"><div class=\"sk-text-repr-fallback\"><pre>SVC(probability=True, random_state=42)</pre><b>In a Jupyter environment, please rerun this cell to show the HTML representation or trust the notebook. <br />On GitHub, the HTML representation is unable to render, please try loading this page with nbviewer.org.</b></div><div class=\"sk-container\" hidden><div class=\"sk-item\"><div class=\"sk-estimator sk-toggleable\"><input class=\"sk-toggleable__control sk-hidden--visually\" id=\"sk-estimator-id-2\" type=\"checkbox\" checked><label for=\"sk-estimator-id-2\" class=\"sk-toggleable__label sk-toggleable__label-arrow\">SVC</label><div class=\"sk-toggleable__content\"><pre>SVC(probability=True, random_state=42)</pre></div></div></div></div></div>"
      ],
      "text/plain": [
       "SVC(probability=True, random_state=42)"
      ]
     },
     "execution_count": 40,
     "metadata": {},
     "output_type": "execute_result"
    }
   ],
   "source": [
    "from sklearn.svm import SVC\n",
    "svc = SVC(random_state=42,probability=True)\n",
    "fit_assess_regressor(svc,X_train, y_train)"
   ]
  },
  {
   "cell_type": "code",
   "execution_count": 41,
   "metadata": {
    "tags": []
   },
   "outputs": [
    {
     "data": {
      "text/plain": [
       "['../models/svc_default.joblib']"
      ]
     },
     "execution_count": 41,
     "metadata": {},
     "output_type": "execute_result"
    }
   ],
   "source": [
    "dump(svc,  '../models/svc_default.joblib')"
   ]
  }
 ],
 "metadata": {
  "colab": {
   "collapsed_sections": [
    "3IwbDesTs-dr",
    "Vf73A1HmK1v5",
    "zQvGUYHjpdIc",
    "P4POxjz4Oi6W",
    "K_m-WMllhVqG",
    "REw41QhhWC5b"
   ],
   "provenance": []
  },
  "kernelspec": {
   "display_name": "Python 3 (ipykernel)",
   "language": "python",
   "name": "python3"
  },
  "language_info": {
   "codemirror_mode": {
    "name": "ipython",
    "version": 3
   },
   "file_extension": ".py",
   "mimetype": "text/x-python",
   "name": "python",
   "nbconvert_exporter": "python",
   "pygments_lexer": "ipython3",
   "version": "3.9.13"
  }
 },
 "nbformat": 4,
 "nbformat_minor": 4
}
